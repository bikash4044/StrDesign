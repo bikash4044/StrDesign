{
 "cells": [
  {
   "cell_type": "code",
   "execution_count": 1,
   "metadata": {},
   "outputs": [],
   "source": [
    "import math"
   ]
  },
  {
   "cell_type": "code",
   "execution_count": 2,
   "metadata": {},
   "outputs": [
    {
     "data": {
      "text/plain": [
       "3.141592653589793"
      ]
     },
     "execution_count": 2,
     "metadata": {},
     "output_type": "execute_result"
    }
   ],
   "source": [
    "math.pi"
   ]
  },
  {
   "cell_type": "code",
   "execution_count": 3,
   "metadata": {},
   "outputs": [
    {
     "data": {
      "text/plain": [
       "3.141592653589793"
      ]
     },
     "execution_count": 3,
     "metadata": {},
     "output_type": "execute_result"
    }
   ],
   "source": [
    "import numpy as np\n",
    "np.pi"
   ]
  },
  {
   "cell_type": "code",
   "execution_count": 7,
   "metadata": {},
   "outputs": [
    {
     "data": {
      "text/plain": [
       "4"
      ]
     },
     "execution_count": 7,
     "metadata": {},
     "output_type": "execute_result"
    }
   ],
   "source": [
    "abs(-4)"
   ]
  },
  {
   "cell_type": "code",
   "execution_count": 2,
   "metadata": {},
   "outputs": [
    {
     "name": "stdout",
     "output_type": "stream",
     "text": [
      "\n",
      "Consider,\n",
      "W = depth of drainbase from ground surface(m)\n",
      "D = depth of impervious layer from drainbase(m)\n",
      "H = depth of water table from from ground surface(m)\n",
      "h = height of water table from drain base(m)\n",
      "    => W = h+H\n",
      "k1 = hydraulic conductivity of soil above drainbase(m/day)\n",
      "k2 = hydraulic conductivity of soil below drainbase(m/day)\n",
      "    => in some cases, k1=k2 might happen\n",
      "q = design discharge from a pipe(m/day)\n",
      "\n",
      "\n",
      "\n",
      "\n",
      "\n",
      "For L=100.0m, the value we get L=3.3149088585135584m\n",
      "Improve the drainage spacing. difference is 96.68509114148644m\n",
      "For L=50.0m, the value we get L=2.532458413733284m\n",
      "Improve the drainage spacing. difference is 47.46754158626672m\n",
      "For L=200.0m, the value we get L=4.394580428933342m\n",
      "Improve the drainage spacing. difference is 195.60541957106665m\n",
      "For L=20.0m, the value we get L=1.8249041226997853m\n",
      "Improve the drainage spacing. difference is 18.175095877300215m\n",
      "For L=30.0m, the value we get L=2.0996605184152397m\n",
      "Improve the drainage spacing. difference is 27.90033948158476m\n",
      "For L=1.0m, the value we get L=0.7768792817277921m\n",
      "You may proceed with the design. Difference is 0.22312071827220792m\n"
     ]
    }
   ],
   "source": [
    "import numpy as np\n",
    "import math\n",
    "'''\n",
    "This programs aims at design of drainage sturcture for subsurface pipe drainage system.\n",
    "Use this program specifically when you need to find the spacing between the drainage pipes\n",
    "'''\n",
    "\n",
    "print('''\n",
    "Consider,\n",
    "W = depth of drainbase from ground surface(m)\n",
    "D = depth of impervious layer from drainbase(m)\n",
    "H = depth of water table from from ground surface(m)\n",
    "h = height of water table from drain base(m)\n",
    "    => W = h+H\n",
    "k1 = hydraulic conductivity of soil above drainbase(m/day)\n",
    "k2 = hydraulic conductivity of soil below drainbase(m/day)\n",
    "    => in some cases, k1=k2 might happen\n",
    "q = design discharge from a pipe(m/day)\n",
    "''')\n",
    "\n",
    "print(\"\\n\\n\\n\")\n",
    "D = float(input(\"Enter depth(m) of impervious layer from  drainbase: \"))\n",
    "r = float(input(\"Enter the radius of the drain pipe: \"))\n",
    "u=r*math.pi\n",
    "k1 = float(input(\"Enter hydraulic conductivity(m/day) of soil above drain base: \"))\n",
    "k2 = float(input(\"Enter hydraulic conductivity(m/day) of soil below drain base: \"))\n",
    "h = float(input(\"Enter height of water table from drain base: \"))\n",
    "q = float(input(\"Enter discharge(m/day) through the pipe: \"))\n",
    "\n",
    "while(True):\n",
    "    L = float(input(\"Enter length spacing(m) to start with: \"))\n",
    "    L2=0\n",
    "    d=0\n",
    "    if(D>(L/4)):\n",
    "        d = D/(((8*D*math.log(D/u))/(L*math.pi))+1)\n",
    "    else:\n",
    "        d = (np.pi*L)/(8*math.log(L/u))\n",
    "\n",
    "    L2 = math.sqrt((8*k2*d*h/q)+(4*k1*h*h/q))\n",
    "    print(f\"For L={L}m, the value we get L={L2}m\")\n",
    "    if(abs(L-L2)<=1):\n",
    "        break\n",
    "    else:\n",
    "        print(f\"Improve the drainage spacing. difference is {abs(L-L2)}m\")\n",
    "\n",
    "print(f\"You may proceed with the design. Difference is {abs(L-L2)}m\")\n"
   ]
  },
  {
   "cell_type": "code",
   "execution_count": null,
   "metadata": {},
   "outputs": [],
   "source": []
  }
 ],
 "metadata": {
  "kernelspec": {
   "display_name": "Python 3",
   "language": "python",
   "name": "python3"
  },
  "language_info": {
   "codemirror_mode": {
    "name": "ipython",
    "version": 3
   },
   "file_extension": ".py",
   "mimetype": "text/x-python",
   "name": "python",
   "nbconvert_exporter": "python",
   "pygments_lexer": "ipython3",
   "version": "3.10.6"
  }
 },
 "nbformat": 4,
 "nbformat_minor": 2
}
