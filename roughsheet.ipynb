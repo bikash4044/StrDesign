{
 "cells": [
  {
   "cell_type": "code",
   "execution_count": 1,
   "metadata": {},
   "outputs": [],
   "source": [
    "import math"
   ]
  },
  {
   "cell_type": "code",
   "execution_count": 2,
   "metadata": {},
   "outputs": [
    {
     "data": {
      "text/plain": [
       "3.141592653589793"
      ]
     },
     "execution_count": 2,
     "metadata": {},
     "output_type": "execute_result"
    }
   ],
   "source": [
    "math.pi"
   ]
  },
  {
   "cell_type": "code",
   "execution_count": 3,
   "metadata": {},
   "outputs": [
    {
     "data": {
      "text/plain": [
       "3.141592653589793"
      ]
     },
     "execution_count": 3,
     "metadata": {},
     "output_type": "execute_result"
    }
   ],
   "source": [
    "import numpy as np\n",
    "np.pi"
   ]
  },
  {
   "cell_type": "code",
   "execution_count": 7,
   "metadata": {},
   "outputs": [
    {
     "data": {
      "text/plain": [
       "4"
      ]
     },
     "execution_count": 7,
     "metadata": {},
     "output_type": "execute_result"
    }
   ],
   "source": [
    "abs(-4)"
   ]
  },
  {
   "cell_type": "code",
   "execution_count": 1,
   "metadata": {},
   "outputs": [
    {
     "name": "stdout",
     "output_type": "stream",
     "text": [
      "\n",
      "Consider,\n",
      "W = depth of drainbase from ground surface(m)\n",
      "D = depth of impervious layer from drainbase(m)\n",
      "H = depth of water table from from ground surface(m)\n",
      "h = height of water table from drain base(m)\n",
      "    => W = h+H\n",
      "k1 = hydraulic conductivity of soil above drainbase(m/day)\n",
      "k2 = hydraulic conductivity of soil below drainbase(m/day)\n",
      "    => in some cases, k1=k2 might happen\n",
      "q = design discharge from a pipe(m/day)\n",
      "\n",
      "\n",
      "\n",
      "\n",
      "\n"
     ]
    },
    {
     "ename": "TypeError",
     "evalue": "unsupported operand type(s) for /: 'str' and 'int'",
     "output_type": "error",
     "traceback": [
      "\u001b[1;31m---------------------------------------------------------------------------\u001b[0m",
      "\u001b[1;31mTypeError\u001b[0m                                 Traceback (most recent call last)",
      "Cell \u001b[1;32mIn[1], line 34\u001b[0m\n\u001b[0;32m     32\u001b[0m L2\u001b[38;5;241m=\u001b[39m\u001b[38;5;241m0\u001b[39m\n\u001b[0;32m     33\u001b[0m d\u001b[38;5;241m=\u001b[39m\u001b[38;5;241m0\u001b[39m\n\u001b[1;32m---> 34\u001b[0m \u001b[38;5;28;01mif\u001b[39;00m(D\u001b[38;5;241m>\u001b[39m\u001b[43mL\u001b[49m\u001b[38;5;241;43m/\u001b[39;49m\u001b[38;5;241;43m4\u001b[39;49m):\n\u001b[0;32m     35\u001b[0m     d \u001b[38;5;241m=\u001b[39m D\u001b[38;5;241m/\u001b[39m(((\u001b[38;5;241m8\u001b[39m\u001b[38;5;241m*\u001b[39mD\u001b[38;5;241m*\u001b[39mmath\u001b[38;5;241m.\u001b[39mlog(D\u001b[38;5;241m/\u001b[39mu))\u001b[38;5;241m/\u001b[39m(L\u001b[38;5;241m*\u001b[39mmath\u001b[38;5;241m.\u001b[39mpi))\u001b[38;5;241m+\u001b[39m\u001b[38;5;241m1\u001b[39m)\n\u001b[0;32m     36\u001b[0m \u001b[38;5;28;01melse\u001b[39;00m:\n",
      "\u001b[1;31mTypeError\u001b[0m: unsupported operand type(s) for /: 'str' and 'int'"
     ]
    }
   ],
   "source": [
    "import numpy as np\n",
    "import math\n",
    "'''\n",
    "This programs aims at design of drainage sturcture for subsurface pipe drainage system.\n",
    "Use this program specifically when you need to find the spacing between the drainage pipes\n",
    "'''\n",
    "\n",
    "print('''\n",
    "Consider,\n",
    "W = depth of drainbase from ground surface(m)\n",
    "D = depth of impervious layer from drainbase(m)\n",
    "H = depth of water table from from ground surface(m)\n",
    "h = height of water table from drain base(m)\n",
    "    => W = h+H\n",
    "k1 = hydraulic conductivity of soil above drainbase(m/day)\n",
    "k2 = hydraulic conductivity of soil below drainbase(m/day)\n",
    "    => in some cases, k1=k2 might happen\n",
    "q = design discharge from a pipe(m/day)\n",
    "''')\n",
    "\n",
    "print(\"\\n\\n\\n\")\n",
    "D = float(input(\"Enter depth(m) of impervious layer from  drainbase: \"))\n",
    "r = float(input(\"Enter the radius of the drain pipe: \"))\n",
    "u=r*math.pi\n",
    "k1 = float(input(\"Enter hydraulic conductivity(m/day) of soil above drain base: \"))\n",
    "k2 = float(input(\"Enter hydraulic conductivity(m/day) of soil below drain base: \"))\n",
    "h = float(input(\"Enter height of water table from drain base: \"))\n",
    "q = float(input(\"Enter discharge(m/day) through the pipe: \"))\n",
    "\n",
    "while(True):\n",
    "    L = float(input(\"Enter length spacing(m) to start with: \"))\n",
    "    L2=0\n",
    "    d=0\n",
    "    if(D>(L/4)):\n",
    "        d = D/(((8*D*math.log(D/u))/(L*math.pi))+1)\n",
    "    else:\n",
    "        d = (np.pi*L)/(8*math.log(L/u))\n",
    "\n",
    "    L2 = math.sqrt((8*k2*d*h/q)+(4*k1*h*h/q))\n",
    "    print(f\"For L={L}m, the value we get L={L2}m\")\n",
    "    if(abs(L-L2)<=1):\n",
    "        break\n",
    "    else:\n",
    "        print(f\"Improve the drainage spacing. difference is {abs(L-L2)}m\")\n",
    "\n",
    "print(f\"You may proceed with the design. Difference is {abs(L-L2)}m\")\n"
   ]
  },
  {
   "cell_type": "code",
   "execution_count": null,
   "metadata": {},
   "outputs": [],
   "source": []
  }
 ],
 "metadata": {
  "kernelspec": {
   "display_name": "Python 3",
   "language": "python",
   "name": "python3"
  },
  "language_info": {
   "codemirror_mode": {
    "name": "ipython",
    "version": 3
   },
   "file_extension": ".py",
   "mimetype": "text/x-python",
   "name": "python",
   "nbconvert_exporter": "python",
   "pygments_lexer": "ipython3",
   "version": "3.10.6"
  }
 },
 "nbformat": 4,
 "nbformat_minor": 2
}
